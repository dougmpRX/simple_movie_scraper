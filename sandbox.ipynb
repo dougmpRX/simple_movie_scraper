{
 "cells": [
  {
   "cell_type": "code",
   "execution_count": null,
   "metadata": {},
   "outputs": [],
   "source": [
    "import requests\n",
    "import os\n",
    "from bs4 import BeautifulSoup\n",
    "from dotenv import load_dotenv\n",
    "\n",
    "load_dotenv()\n",
    "MOVIES_URL = os.getenv('MOVIES_URL')\n",
    "\n",
    "response = requests.get(MOVIES_URL)\n",
    "soup = BeautifulSoup(response.text, 'html.parser')\n",
    "\n",
    "movies = soup.find_all('div', class_='grid-item')\n",
    "\n",
    "print(movies[1])\n",
    "\n"
   ]
  },
  {
   "cell_type": "code",
   "execution_count": null,
   "metadata": {},
   "outputs": [],
   "source": [
    "\n",
    "load_dotenv()\n",
    "BASE_URL = os.getenv('BASE_URL')\n",
    "\n",
    "movieTitle = movies[1].find('div', class_='meta-title').text.strip()\n",
    "movieCode = movies[1].findAll('a')[0].get('href').split('/')[-2]\n",
    "releaseDate = movies[1].find('div', class_='meta-data').text\n",
    "actorName = movies[1].find('span', itemprop='name').text\n",
    "\n",
    "thumbNailSource = movies[1].find('img', class_='media-image').get('src')\n",
    "\n",
    "movieUrl = BASE_URL + movies[1].find('a', itemprop='url').get('href')\n",
    "imageUrl = movieUrl.replace('index.html', 'images/l_l.jpg')\n",
    "\n",
    "print(movieCode,actorName, movieTitle, releaseDate, thumbNailSource, movieUrl)\n",
    "print(imageUrl)\n"
   ]
  },
  {
   "cell_type": "code",
   "execution_count": null,
   "metadata": {},
   "outputs": [],
   "source": [
    "from entities import Movie\n",
    "\n",
    "movies_list = []\n",
    "\n",
    "for movie in movies[1:]:\n",
    "    movieTitle = movie.find('div', class_='meta-title').text.strip()\n",
    "    movieCode = movie.findAll('a')[0].get('href').split('/')[-2]\n",
    "    releaseDate = movie.find('div', class_='meta-data').text\n",
    "    actorName = movie.find('span', itemprop='name').text\n",
    "\n",
    "    thumbNailUrl = movie.find('img', class_='media-image').get('src')\n",
    "\n",
    "    movieUrl = BASE_URL + movie.find('a', itemprop='url').get('href')\n",
    "    imageUrl = movieUrl.replace('index.html', 'images/l_l.jpg')\n",
    "\n",
    "\n",
    "    movie_object = Movie(movieCode, movieTitle, releaseDate, movieUrl, imageUrl, thumbNailUrl, actorName)\n",
    "    movies_list.append(movie_object)\n",
    "\n",
    "for movie in movies_list:\n",
    "    print(movie.imageUrl)\n"
   ]
  }
 ],
 "metadata": {
  "kernelspec": {
   "display_name": ".venv",
   "language": "python",
   "name": "python3"
  },
  "language_info": {
   "codemirror_mode": {
    "name": "ipython",
    "version": 3
   },
   "file_extension": ".py",
   "mimetype": "text/x-python",
   "name": "python",
   "nbconvert_exporter": "python",
   "pygments_lexer": "ipython3",
   "version": "3.10.12"
  }
 },
 "nbformat": 4,
 "nbformat_minor": 2
}
